{
 "cells": [
  {
   "cell_type": "markdown",
   "metadata": {},
   "source": [
    "# Task 1:"
   ]
  },
  {
   "cell_type": "code",
   "execution_count": 9,
   "metadata": {},
   "outputs": [
    {
     "name": "stdout",
     "output_type": "stream",
     "text": [
      "pls try to enter an integer:0\n",
      "division by zero\n",
      "this is an issue with code\n"
     ]
    }
   ],
   "source": [
    "# 1.Write a function to compute 5/0 and use try/except to catch the exceptions.\n",
    "\n",
    "def askint():\n",
    "    try:\n",
    "        v=int(input(\"pls try to enter an integer:\"))\n",
    "        w=7/v\n",
    "        print(f\"this code is working fine: {w}\")\n",
    "    except Exception as e:\n",
    "        print(e)\n",
    "        print(\"this is an issue with code\")\n",
    "askint()"
   ]
  },
  {
   "cell_type": "code",
   "execution_count": 7,
   "metadata": {
    "scrolled": true
   },
   "outputs": [
    {
     "name": "stdout",
     "output_type": "stream",
     "text": [
      "Output:\n",
      "Americans  play Baseball\n",
      "Americans  play Cricket\n",
      "Americans  watch Baseball\n",
      "Americans  watch Cricket\n",
      "Indians play Baseball\n",
      "Indians play Cricket\n",
      "Indians watch Baseball\n",
      "Indians watch Cricket\n",
      "None\n"
     ]
    }
   ],
   "source": [
    "# 2.Implement a Python program to generate all sentences where subject is in [\"Americans\",\"Indians\"] and verb is in [\"Play\", \"watch\"] and the object is in [\"Baseball\",\"cricket\"].\n",
    "# Hint: Subject,Verb and Object should be declared in the program as shown below.\n",
    "# subjects=[\"Americans \",\"Indians\"]\n",
    "# verbs=[\"play\",\"watch\"]\n",
    "# objects=[\"Baseball\",\"Cricket\"]\n",
    "\n",
    "subjects=[\"Americans \",\"Indians\"]\n",
    "verbs=[\"play\",\"watch\"]\n",
    "objects=[\"Baseball\",\"Cricket\"]\n",
    "def fun(l1,l2,l3):\n",
    "    for i in l1:\n",
    "        for j in l2:\n",
    "            for k in l3:\n",
    "                 print(i+ \" \"+ j+ \" \" +k) \n",
    "print(\"Output:\")\n",
    "print(fun(subjects,verbs,objects))"
   ]
  },
  {
   "cell_type": "markdown",
   "metadata": {},
   "source": [
    "# OR"
   ]
  },
  {
   "cell_type": "code",
   "execution_count": 6,
   "metadata": {},
   "outputs": [
    {
     "name": "stdout",
     "output_type": "stream",
     "text": [
      "Output:\n",
      "Americans play Baseball.\n",
      "Americans play Cricket.\n",
      "Americans watch Baseball.\n",
      "Americans watch Cricket.\n",
      "Indians play Baseball.\n",
      "Indians play Cricket.\n",
      "Indians watch Baseball.\n",
      "Indians watch Cricket.\n"
     ]
    }
   ],
   "source": [
    "subject=[\"Americans\",\"Indians\"]\n",
    "verb=[\"play\",\"watch\"]\n",
    "objects=[\"Baseball\",\"Cricket\"]\n",
    "lst = [(i+' '+j+' '+k+\".\") for i in subject for j in verb for k in objects]\n",
    "print(\"Output:\")\n",
    "for fun in lst:    \n",
    "    print(fun)"
   ]
  },
  {
   "cell_type": "markdown",
   "metadata": {},
   "source": [
    "# Task 2:"
   ]
  },
  {
   "cell_type": "code",
   "execution_count": null,
   "metadata": {},
   "outputs": [],
   "source": [
    "# 1.Write a function so that the columns of the output matrix are powers of the input vector.The order of the powers is determined by the increasing boolean argument. Specifically, when\n",
    "# increasing is False, the i-th output column is the input vector raised element-wise to the power of N - i - 1.\n",
    "# HINT: Such a matrix with a geometric progression in each row is named for Alexandre-Theophile Vandermonde.\n"
   ]
  },
  {
   "cell_type": "code",
   "execution_count": 18,
   "metadata": {},
   "outputs": [
    {
     "name": "stdout",
     "output_type": "stream",
     "text": [
      "[[ 1  1  1]\n",
      " [ 4  2  1]\n",
      " [ 9  3  1]\n",
      " [16  4  1]\n",
      " [25  5  1]]\n",
      "----------------------------------------------------\n",
      "[[ 1  1  1]\n",
      " [ 1  2  4]\n",
      " [ 1  3  9]\n",
      " [ 1  4 16]\n",
      " [ 1  5 25]]\n"
     ]
    }
   ],
   "source": [
    "import numpy as np\n",
    "a = np.array ([1,2,3,4,5])\n",
    "Y=3\n",
    "print(np.vander(a, Y))\n",
    "print(\"-\"*52)\n",
    "print(np.vander(a,Y, increasing=True))"
   ]
  },
  {
   "cell_type": "markdown",
   "metadata": {},
   "source": [
    "# OR"
   ]
  },
  {
   "cell_type": "code",
   "execution_count": 21,
   "metadata": {},
   "outputs": [
    {
     "name": "stdout",
     "output_type": "stream",
     "text": [
      "Output:\n",
      "The input array is: [1 2 3 4 5] \n",
      "\n",
      "Number of columns in output matrix should be: 3 \n",
      "\n",
      "Vander matrix of the input array in decreasing order of powers:\n",
      "\n",
      " [[ 1  1  1]\n",
      " [ 4  2  1]\n",
      " [ 9  3  1]\n",
      " [16  4  1]\n",
      " [25  5  1]] \n",
      "\n",
      "Vander matrix of the input array in increasing order of powers:\n",
      "\n",
      " [[ 1  1  1]\n",
      " [ 1  2  4]\n",
      " [ 1  3  9]\n",
      " [ 1  4 16]\n",
      " [ 1  5 25]] \n",
      "\n"
     ]
    }
   ],
   "source": [
    "import numpy as np\n",
    "def gen_vander_matrix(input, n, increasing=False):\n",
    "    \n",
    "    if not increasing:\n",
    "        output = np.array([x**(n-1-i) for x in input for i in range(n)]).reshape(input.size,n)\n",
    "    elif increasing:\n",
    "        output = np.array([x**i for x in input for i in range(n)]).reshape(input.size,n)\n",
    "    \n",
    "    return output\n",
    "\n",
    "print(\"Output:\")\n",
    "\n",
    "input1 = np.array([1,2,3,4,5])\n",
    "no_col = 3\n",
    "output_dec_order = gen_vander_matrix(input1,no_col,False)\n",
    "output_inc_order = gen_vander_matrix(input1,no_col,True)\n",
    "\n",
    "print(\"The input array is:\",input1,\"\\n\")\n",
    "print(\"Number of columns in output matrix should be:\",no_col,\"\\n\")\n",
    "print(\"Vander matrix of the input array in decreasing order of powers:\\n\\n\",output_dec_order,\"\\n\")\n",
    "print(\"Vander matrix of the input array in increasing order of powers:\\n\\n\",output_inc_order,\"\\n\")"
   ]
  },
  {
   "cell_type": "code",
   "execution_count": null,
   "metadata": {},
   "outputs": [],
   "source": []
  }
 ],
 "metadata": {
  "kernelspec": {
   "display_name": "Python 3",
   "language": "python",
   "name": "python3"
  },
  "language_info": {
   "codemirror_mode": {
    "name": "ipython",
    "version": 3
   },
   "file_extension": ".py",
   "mimetype": "text/x-python",
   "name": "python",
   "nbconvert_exporter": "python",
   "pygments_lexer": "ipython3",
   "version": "3.7.6"
  }
 },
 "nbformat": 4,
 "nbformat_minor": 4
}
